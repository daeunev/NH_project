{
 "cells": [
  {
   "cell_type": "markdown",
   "id": "082a77f9",
   "metadata": {},
   "source": [
    "#### 라이브러리 불러오기 "
   ]
  },
  {
   "cell_type": "code",
   "execution_count": null,
   "id": "8a78fc36",
   "metadata": {},
   "outputs": [],
   "source": [
    "import pandas as pd\n",
    "pd.set_option(\"display.max_row\", 100)\n",
    "pd.set_option(\"display.max_column\", 100)\n",
    "import numpy as np\n",
    "import os\n",
    "\n",
    "from sklearn.preprocessing import LabelEncoder\n",
    "from sklearn.metrics import mean_squared_error as mse\n",
    "from sklearn.model_selection import train_test_split, StratifiedKFold, KFold\n",
    "from lightgbm import LGBMRegressor\n",
    "\n",
    "import gower # 거리 계산\n",
    "import matplotlib.pyplot as plt # 시각화\n",
    "from scipy.cluster.hierarchy import linkage, fcluster, dendrogram # 클러스터링\n",
    "\n",
    "import datetime \n",
    "from pykrx import stock\n",
    "import requests\n",
    "import time"
   ]
  },
  {
   "cell_type": "markdown",
   "id": "65eebcf5",
   "metadata": {},
   "source": [
    "#### 데이터 불러오기 "
   ]
  },
  {
   "cell_type": "code",
   "execution_count": null,
   "id": "27ca2e55",
   "metadata": {},
   "outputs": [],
   "source": [
    "cus = pd.read_csv(\"C:/Users/ambers/Desktop/NH/데이터/open/cus_info.csv\")\n",
    "cus_ = pd.read_csv(\"C:/Users/ambers/Desktop/NH/데이터/open/re_cus_info.csv\")\n",
    "\n",
    "iem = pd.read_csv(\"C:/Users/ambers/Desktop/NH/데이터/open/iem_info_20210902.csv\")\n",
    "hist = pd.read_csv(\"C:/Users/ambers/Desktop/NH/데이터/open/stk_bnc_hist.csv\")\n",
    "train = pd.read_csv(\"C:/Users/ambers/Desktop/NH/데이터/open/stk_hld_train.csv\")\n",
    "test = pd.read_csv(\"C:/Users/ambers/Desktop/NH/데이터/open/stk_hld_test.csv\")\n",
    "\n",
    "submission = pd.read_csv(\"C:/Users/ambers/Desktop/NH/데이터/open/sample_submission.csv\")"
   ]
  },
  {
   "cell_type": "markdown",
   "id": "1cc15ac8",
   "metadata": {},
   "source": [
    "#### 투자성향 재정의 \n",
    "##### 투자성향은 개인이 선택해놓은 항목으로 성별, 수익률, 라이프 스테이지 등을 사용하여 재정의 \n",
    "##### 수익률은 해당 일의 최고가와 최저가의 평균값을 이용하여 매수/매도일의 주가로 계산 "
   ]
  },
  {
   "cell_type": "code",
   "execution_count": null,
   "id": "6751f0e5",
   "metadata": {},
   "outputs": [],
   "source": [
    "# 수익률 \n",
    "import FinanceDataReader as fdr\n",
    "import math \n",
    "import multiprocessing\n",
    "\n",
    "def bank_id(x,y):\n",
    "    start=x\n",
    "    iem_=y[1:]\n",
    "    c=fdr.DataReader(symbol=iem_,start=str(start),end=str(start))\n",
    "    if len(c)==0:\n",
    "        return 0\n",
    "    return int((c.High+c.Low)/2)"
   ]
  },
  {
   "cell_type": "code",
   "execution_count": null,
   "id": "15e73d94",
   "metadata": {},
   "outputs": [],
   "source": [
    "hist['close']=hist.apply(lambda x: bank_id(x['bse_dt'],x['iem_cd']),axis=1)"
   ]
  },
  {
   "cell_type": "code",
   "execution_count": null,
   "id": "535a7edf",
   "metadata": {},
   "outputs": [],
   "source": [
    "# 수익률 계산 \n",
    "def income(i):\n",
    "    if hist.iloc[i-1,1]==hist.iloc[i,1] and hist.iloc[i-1,3]==hist.iloc[i,3] and hist.iloc[i-1,4]>hist.iloc[i,4]:\n",
    "        hist.iloc[i,8]=(hist.iloc[i,7]*hist.iloc[i-1,4])/(hist.iloc[i-1,7]*hist.iloc[i-1,4])*100-100\n",
    "        # print(bb.iloc[i,8])\n",
    "    else: \n",
    "        hist.iloc[i,8]=0"
   ]
  },
  {
   "cell_type": "code",
   "execution_count": null,
   "id": "a7b8bbf2",
   "metadata": {},
   "outputs": [],
   "source": [
    "hist['income']=0\n",
    "\n",
    "if __name__=='__main__':\n",
    "    # process_list=np.arange(1, len(bb)-1)\n",
    "    process_list = np.arange(929761,len(bb)-1)\n",
    "\n",
    "    for _ in process_list:\n",
    "        income(_)\n",
    "        t_income(_)\n",
    "        print(_)\n",
    "        if _ == len(bb)-1:\n",
    "            break\n",
    "\n",
    "    p = multiprocessing.Pool(processes=4) \n",
    "    p.map(income,process_list) \n",
    "    p.close() \n",
    "    p.join()"
   ]
  },
  {
   "cell_type": "code",
   "execution_count": null,
   "id": "68c3505d",
   "metadata": {},
   "outputs": [],
   "source": [
    "train_sort=hist.sort_values(by=['bse_dt'])\n",
    "day=train_sort['bse_dt'].unique()"
   ]
  },
  {
   "cell_type": "code",
   "execution_count": null,
   "id": "ad08f905",
   "metadata": {},
   "outputs": [],
   "source": [
    "# per 불러오기 \n",
    "def get_per(date):\n",
    "    tic=stock.get_market_ticker_list(date,market='ALL')\n",
    "    \n",
    "    corp=[]\n",
    "    \n",
    "    for ticker in tic:\n",
    "        corp_name=stock.get_market_ticker_name(ticker)\n",
    "        corp.append([ticker,corp_name])\n",
    "        \n",
    "    df=pd.DataFrame(data=corp, columns=['종목코드','종목명'])\n",
    "    df=df.set_index('종목코드')\n",
    "    \n",
    "    df_f=stock.get_market_fundamental_by_ticker(date,market='ALL')\n",
    "    \n",
    "    df=pd.merge(df,df_f,left_index=True, right_index=True)\n",
    "    \n",
    "    return df "
   ]
  },
  {
   "cell_type": "code",
   "execution_count": null,
   "id": "10597fd8",
   "metadata": {},
   "outputs": [],
   "source": [
    "hist['per']=0\n",
    "\n",
    "def perr(j): # 0-1226 존재 \n",
    "    t1=train_sort[train_sort['bse_dt']==day[j]]\n",
    "    per1=get_per(day[j])\n",
    "    per_iem=list(t1['iem_cd']) # per_iem[1][1:]\n",
    "    print(j,len(per_iem))\n",
    "    for i in np.arange(len(per_iem)-1):\n",
    "        if len(per1[per1.index==per_iem[i][1:]])!=0:\n",
    "            l=len(hist[(hist['bse_dt']==day[j]) & (hist['iem_cd']==per_iem[i])]['per'])\n",
    "            hist['per']=np.where((hist['bse_dt']==day[j]) & (hist['iem_cd']==per_iem[i]),\n",
    "                                    float(per1[per1.index==per_iem[i][1:]]['PER']),hist['per'])\n",
    "            print(i)\n",
    "\n",
    "\n",
    "if __name__=='__main__':\n",
    "    process_list = np.arange(len(day)-1)\n",
    "\n",
    "    for _ in process_list:\n",
    "        perr(_)\n",
    "        if _ == len(day)-1:\n",
    "            break\n",
    "\n",
    "    p = multiprocessing.Pool(processes=13) # cpu 개수 16\n",
    "    p.map(perr,process_list) \n",
    "    p.close() \n",
    "    p.join()"
   ]
  },
  {
   "cell_type": "code",
   "execution_count": null,
   "id": "6bc49992",
   "metadata": {},
   "outputs": [],
   "source": [
    "# 고객별 수익률을 기하평균을 사용하여 gower거리를 이용한 클러스터링 \n",
    "from functools import reduce \n",
    "import math\n",
    "\n",
    "def multiply(arr):\n",
    "    try:\n",
    "        return math.pow(reduce(lambda x, y : x*y, arr),1/len(arr)) # 근데 누적 수익률은 많이 할 수록 높아지는 거라서 딱히 \n",
    "    except ValueError:  # Square root of a negative number.\n",
    "        print(\"minus\")"
   ]
  },
  {
   "cell_type": "code",
   "execution_count": null,
   "id": "80db025a",
   "metadata": {},
   "outputs": [],
   "source": [
    "income0=hist[hist['income']!=0]\n",
    "cust_income=income0[['act_id','income']].groupby('act_id').agg(multiply)"
   ]
  },
  {
   "cell_type": "code",
   "execution_count": null,
   "id": "fbf9095c",
   "metadata": {},
   "outputs": [],
   "source": [
    "cust_income=cust_income[cust_income.notnull()] # 비상정주식의 주가데이터는 전부 알 수가 없어 구할 수 있는 경우의 고객에 대해서 재정의 "
   ]
  },
  {
   "cell_type": "code",
   "execution_count": null,
   "id": "4df7ee88",
   "metadata": {},
   "outputs": [],
   "source": [
    "income_non=cust_income[cust_income['income'].notnull()] # 무한으로 넘어가는 경우가 존재 -> 표준화를 통해 1로 부여\n",
    "income_non.describe"
   ]
  },
  {
   "cell_type": "code",
   "execution_count": null,
   "id": "78192c1b",
   "metadata": {},
   "outputs": [],
   "source": [
    "income_=income_non[income_non['income']!=np.inf]\n",
    "income_.describe()"
   ]
  },
  {
   "cell_type": "code",
   "execution_count": null,
   "id": "a026e3c5",
   "metadata": {},
   "outputs": [],
   "source": [
    "cust_=pd.DataFrame(income_['income']-np.mean(income_['income']))/np.std(income_['income'])"
   ]
  },
  {
   "cell_type": "code",
   "execution_count": null,
   "id": "e9a722e4",
   "metadata": {},
   "outputs": [],
   "source": [
    "income_inf=income_non[income_non['income']==np.inf]\n",
    "income_inf['income']=1\n",
    "income_inf"
   ]
  },
  {
   "cell_type": "code",
   "execution_count": null,
   "id": "87e697ff",
   "metadata": {},
   "outputs": [],
   "source": [
    "cust_income=pd.concat([cust_,income_inf])\n",
    "cust_income"
   ]
  },
  {
   "cell_type": "markdown",
   "id": "026c39fa",
   "metadata": {},
   "source": [
    "##### 성별, 연령대, 직업군, 수익률, 시가총액을 통해  클러스터링"
   ]
  },
  {
   "cell_type": "code",
   "execution_count": null,
   "id": "57b0fcea",
   "metadata": {},
   "outputs": [],
   "source": [
    "cust1=cus.iloc[:,[0,1,2,3,7,4]] # 고객아이디0 성별1, 연령대2, 라이프스테이지6 + 자산구간 4 투자성향=3"
   ]
  },
  {
   "cell_type": "code",
   "execution_count": null,
   "id": "8b0cdb8c",
   "metadata": {},
   "outputs": [],
   "source": [
    "income1=cust_income[['income']]\n",
    "income1"
   ]
  },
  {
   "cell_type": "code",
   "execution_count": null,
   "id": "79a7947d",
   "metadata": {},
   "outputs": [],
   "source": [
    "tend=pd.merge(cust1,income1,how='left',left_on='act_id',right_on='act_id') # 필요한 데이터셋 \n",
    "tend.head()"
   ]
  },
  {
   "cell_type": "code",
   "execution_count": null,
   "id": "2b15a83a",
   "metadata": {},
   "outputs": [],
   "source": [
    "tend1=tend[tend['income'].notnull()]"
   ]
  },
  {
   "cell_type": "code",
   "execution_count": null,
   "id": "abb8635f",
   "metadata": {},
   "outputs": [],
   "source": [
    "tend_y=tend1['ivs_icn_cd']\n",
    "tend_x=tend1.iloc[:,1:]"
   ]
  },
  {
   "cell_type": "code",
   "execution_count": null,
   "id": "e0f5e274",
   "metadata": {},
   "outputs": [],
   "source": [
    "Xy_original=tend_x.copy()\n",
    "df=tend_x.copy()"
   ]
  },
  {
   "cell_type": "code",
   "execution_count": null,
   "id": "900ddf6f",
   "metadata": {},
   "outputs": [],
   "source": [
    "data_meta = pd.DataFrame(df.nunique(),columns=['num'],index=None).sort_values('num').reset_index()\n",
    "data_meta.columns = ['name','num']\n",
    "data_meta['type'] = 'numerical'"
   ]
  },
  {
   "cell_type": "code",
   "execution_count": null,
   "id": "a61fa636",
   "metadata": {},
   "outputs": [],
   "source": [
    "categorical_features = list(tend_x.columns[:4])\n",
    "numerical_features = list(tend_x.columns[4:])"
   ]
  },
  {
   "cell_type": "code",
   "execution_count": null,
   "id": "24d5ba98",
   "metadata": {},
   "outputs": [],
   "source": [
    "cat = [True if x in categorical_features else False for x in Xy_original.columns]\n",
    "\n",
    "n = 5\n",
    "focus = Xy_original.sample(1)\n",
    "similar = gower.gower_topn(focus,Xy_original,\n",
    "                           n=n,cat_features=cat)"
   ]
  },
  {
   "cell_type": "code",
   "execution_count": null,
   "id": "4f038375",
   "metadata": {},
   "outputs": [],
   "source": [
    "cat = [True if x in categorical_features else False for x in Xy_original.columns]\n",
    "\n",
    "%time gd = gower.gower_matrix(Xy_original, cat_features=cat)"
   ]
  },
  {
   "cell_type": "code",
   "execution_count": null,
   "id": "29ac4a9e",
   "metadata": {},
   "outputs": [],
   "source": [
    "from scipy.cluster.hierarchy import linkage, fcluster, dendrogram\n",
    "from scipy.spatial.distance import pdist,squareform"
   ]
  },
  {
   "cell_type": "code",
   "execution_count": null,
   "id": "894fb1aa",
   "metadata": {},
   "outputs": [],
   "source": [
    "# condensed matrix\n",
    "gdv = squareform(gd,force='tovector')\n",
    "\n",
    "# output matrix has format [idx1, idx2, dist, sample_count]\n",
    "Z = linkage(gdv,method='complete')\n",
    "Z_df = pd.DataFrame(Z,columns=['id1','id2','dist','n'])\n",
    "Z_df[:2]"
   ]
  },
  {
   "cell_type": "code",
   "execution_count": null,
   "id": "72748390",
   "metadata": {},
   "outputs": [],
   "source": [
    "tend1['cluster']=fcluster(Z, 4, criterion='maxclust')\n",
    "pd.crosstab(tend1['cluster'],tend1['ivs_icn_cd'])"
   ]
  },
  {
   "cell_type": "markdown",
   "id": "2a412fe7",
   "metadata": {},
   "source": [
    "#### train의 hist d\n",
    "##### ewm을 사용하여 hist_d설정하여 사용 \n",
    "##### 종목에 따라서 날짜가 가까울수록 놏은 가중치를 부여한 보유 날짜 계산"
   ]
  },
  {
   "cell_type": "code",
   "execution_count": null,
   "id": "c30ec22e",
   "metadata": {},
   "outputs": [],
   "source": [
    "train1=pd.merge(train,iem,how='left',left_on='iem_cd',right_on='iem_cd')"
   ]
  },
  {
   "cell_type": "code",
   "execution_count": null,
   "id": "26d5eef6",
   "metadata": {},
   "outputs": [],
   "source": [
    "train2=train1.sort_values(by=['stk_dit_cd','byn_dt']) # 시장구분 iem_info stk_dit_cd\n",
    "train2['hist_d']=train1.sort_values(by=['stk_dit_cd','byn_dt']).groupby(['stk_dit_cd'])['hold_d'].transform(lambda x:x.ewm(span=4,min_periods=1).mean())"
   ]
  },
  {
   "cell_type": "code",
   "execution_count": null,
   "id": "099c2ef9",
   "metadata": {},
   "outputs": [],
   "source": [
    "train=train2.iloc[:,:5]"
   ]
  },
  {
   "cell_type": "markdown",
   "id": "cff74883",
   "metadata": {},
   "source": [
    "#### LGB"
   ]
  },
  {
   "cell_type": "code",
   "execution_count": null,
   "id": "221e81b1",
   "metadata": {},
   "outputs": [],
   "source": [
    "cus_=pd.merge(cus,cus_[['act_id','cluster']],how='left',left_on='act_id',right_on='act_id')"
   ]
  },
  {
   "cell_type": "code",
   "execution_count": null,
   "id": "85fdf81c",
   "metadata": {},
   "outputs": [],
   "source": [
    "cus=cus_.iloc[:,:9]\n",
    "cus['ivs_icn_cd']=list(cus_['cluster'])"
   ]
  },
  {
   "cell_type": "code",
   "execution_count": null,
   "id": "d4ec743b",
   "metadata": {},
   "outputs": [],
   "source": [
    "cus=cus.fillna(5) # 결측치는 새로운 범주값으로 부여 \n",
    "cus['ivs_icn_cd']=cus['ivs_icn_cd'].astype('category')"
   ]
  },
  {
   "cell_type": "code",
   "execution_count": null,
   "id": "a0e36b6c",
   "metadata": {},
   "outputs": [],
   "source": [
    "train_data = pd.merge(train, cus, how = \"left\", on = [\"act_id\"])\n",
    "train_data = pd.merge(train_data, iem, how = \"left\", on = [\"iem_cd\"])\n",
    "\n",
    "test_data = pd.merge(test, cus, how = \"left\", on = [\"act_id\"])\n",
    "test_data = pd.merge(test_data, iem, how = \"left\", on = [\"iem_cd\"])\n",
    "\n",
    "train_label = train_data[\"hold_d\"]\n",
    "train_data.drop([\"hold_d\"], axis = 1, inplace = True)"
   ]
  },
  {
   "cell_type": "code",
   "execution_count": null,
   "id": "0e8ec924",
   "metadata": {},
   "outputs": [],
   "source": [
    "hist[\"stk_p\"] = hist[\"tot_aet_amt\"] / hist[\"bnc_qty\"]\n",
    "hist = hist.fillna(0)\n",
    "\n",
    "train_data = pd.merge(train_data, hist, how = \"left\", on = [\"act_id\", \"iem_cd\"])\n",
    "train_data = train_data[(train_data[\"byn_dt\"] == train_data[\"bse_dt\"])]\n",
    "train_data.reset_index(drop = True, inplace = True)\n",
    "\n",
    "test_data = pd.merge(test_data, hist, how = \"left\", on = [\"act_id\", \"iem_cd\"])\n",
    "test_data = test_data[(test_data[\"byn_dt\"] == test_data[\"bse_dt\"])]\n",
    "test_data.reset_index(drop = True, inplace = True)\n",
    "\n",
    "train_data = train_data.drop([\"act_id\", \"iem_cd\", \"byn_dt\", \"bse_dt\"], axis = 1)\n",
    "test_data = test_data.drop([\"act_id\", \"iem_cd\", \"byn_dt\", \"submit_id\", \"hold_d\", \"bse_dt\"], axis = 1)\n",
    "\n",
    "L_encoder = LabelEncoder()\n",
    "L_encoder.fit(iem[\"iem_krl_nm\"])\n",
    "train_data[\"iem_krl_nm\"] = L_encoder.transform(train_data[\"iem_krl_nm\"])\n",
    "test_data[\"iem_krl_nm\"] = L_encoder.transform(test_data[\"iem_krl_nm\"])"
   ]
  },
  {
   "cell_type": "code",
   "execution_count": null,
   "id": "81970d35",
   "metadata": {},
   "outputs": [],
   "source": [
    "train_data.reset_index(drop = True, inplace=True)\n",
    "train_label.reset_index(drop = True, inplace=True)"
   ]
  },
  {
   "cell_type": "code",
   "execution_count": null,
   "id": "4b3a812b",
   "metadata": {},
   "outputs": [],
   "source": [
    "models = []\n",
    "\n",
    "folds = KFold(n_splits=10)\n",
    "for train_idx, val_idx in folds.split(train_data):\n",
    "    \n",
    "    train_x = train_data.iloc[train_idx, :]\n",
    "    train_y = train_label[train_idx]\n",
    "    val_x = train_data.iloc[val_idx, :]\n",
    "    val_y = train_label[val_idx]\n",
    "    \n",
    "    model = LGBMRegressor(objective= \"regression\",\n",
    "                          max_depth= 5,\n",
    "                          n_estimators= 2000,\n",
    "                          learning_rate= 0.01,\n",
    "                          num_leaves = 31)\n",
    "    \n",
    "    model.fit(train_x, train_y,\n",
    "              eval_set=[(val_x, val_y)],\n",
    "              eval_metric=[\"rmse\"],\n",
    "              early_stopping_rounds=300,\n",
    "              verbose=500)\n",
    "    \n",
    "    models.append(model)"
   ]
  },
  {
   "cell_type": "code",
   "execution_count": null,
   "id": "21798714",
   "metadata": {},
   "outputs": [],
   "source": [
    "result = []\n",
    "for i in models:\n",
    "    result.append(i.predict(test_data)) # hist_d 제외시 test_data.iloc[:,1:]\n",
    "predict = np.mean(result, axis = 0)"
   ]
  },
  {
   "cell_type": "code",
   "execution_count": null,
   "id": "d46ad9af",
   "metadata": {},
   "outputs": [],
   "source": [
    "submission[\"hold_d\"] = np.round(predict)"
   ]
  },
  {
   "cell_type": "code",
   "execution_count": null,
   "id": "f8d0762a",
   "metadata": {},
   "outputs": [],
   "source": [
    "submission.to_csv(\"C:/Users/ambers/Desktop/NH/데이터/dacon_ewm1.csv\", index = False)"
   ]
  },
  {
   "cell_type": "code",
   "execution_count": null,
   "id": "42f15924",
   "metadata": {},
   "outputs": [],
   "source": []
  }
 ],
 "metadata": {
  "kernelspec": {
   "display_name": "Python 3 (ipykernel)",
   "language": "python",
   "name": "python3"
  },
  "language_info": {
   "codemirror_mode": {
    "name": "ipython",
    "version": 3
   },
   "file_extension": ".py",
   "mimetype": "text/x-python",
   "name": "python",
   "nbconvert_exporter": "python",
   "pygments_lexer": "ipython3",
   "version": "3.8.11"
  }
 },
 "nbformat": 4,
 "nbformat_minor": 5
}
